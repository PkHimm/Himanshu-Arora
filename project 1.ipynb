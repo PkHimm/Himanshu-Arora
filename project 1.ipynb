{
 "cells": [
  {
   "cell_type": "markdown",
   "id": "3ada5843",
   "metadata": {},
   "source": [
    "# Salary Prediction "
   ]
  },
  {
   "cell_type": "code",
   "execution_count": 2,
   "id": "293145f4",
   "metadata": {},
   "outputs": [],
   "source": [
    "import pandas as pd\n",
    "import numpy as np"
   ]
  },
  {
   "cell_type": "code",
   "execution_count": 3,
   "id": "ade10db9",
   "metadata": {},
   "outputs": [
    {
     "name": "stdout",
     "output_type": "stream",
     "text": [
      "         rank discipline  yrs.since.phd  yrs.service   sex  salary\n",
      "0        Prof          B             19           18  Male  139750\n",
      "1        Prof          B             20           16  Male  173200\n",
      "2    AsstProf          B              4            3  Male   79750\n",
      "3        Prof          B             45           39  Male  115000\n",
      "4        Prof          B             40           41  Male  141500\n",
      "..        ...        ...            ...          ...   ...     ...\n",
      "392      Prof          A             33           30  Male  103106\n",
      "393      Prof          A             31           19  Male  150564\n",
      "394      Prof          A             42           25  Male  101738\n",
      "395      Prof          A             25           15  Male   95329\n",
      "396  AsstProf          A              8            4  Male   81035\n",
      "\n",
      "[397 rows x 6 columns]\n"
     ]
    }
   ],
   "source": [
    "df=pd.read_csv('Salaries.csv')\n",
    "print(df)"
   ]
  },
  {
   "cell_type": "code",
   "execution_count": 4,
   "id": "08c45925",
   "metadata": {},
   "outputs": [
    {
     "data": {
      "text/html": [
       "<div>\n",
       "<style scoped>\n",
       "    .dataframe tbody tr th:only-of-type {\n",
       "        vertical-align: middle;\n",
       "    }\n",
       "\n",
       "    .dataframe tbody tr th {\n",
       "        vertical-align: top;\n",
       "    }\n",
       "\n",
       "    .dataframe thead th {\n",
       "        text-align: right;\n",
       "    }\n",
       "</style>\n",
       "<table border=\"1\" class=\"dataframe\">\n",
       "  <thead>\n",
       "    <tr style=\"text-align: right;\">\n",
       "      <th></th>\n",
       "      <th>rank</th>\n",
       "      <th>discipline</th>\n",
       "      <th>yrs.since.phd</th>\n",
       "      <th>yrs.service</th>\n",
       "      <th>sex</th>\n",
       "      <th>salary</th>\n",
       "    </tr>\n",
       "  </thead>\n",
       "  <tbody>\n",
       "    <tr>\n",
       "      <th>0</th>\n",
       "      <td>Prof</td>\n",
       "      <td>B</td>\n",
       "      <td>19</td>\n",
       "      <td>18</td>\n",
       "      <td>Male</td>\n",
       "      <td>139750</td>\n",
       "    </tr>\n",
       "    <tr>\n",
       "      <th>1</th>\n",
       "      <td>Prof</td>\n",
       "      <td>B</td>\n",
       "      <td>20</td>\n",
       "      <td>16</td>\n",
       "      <td>Male</td>\n",
       "      <td>173200</td>\n",
       "    </tr>\n",
       "    <tr>\n",
       "      <th>2</th>\n",
       "      <td>AsstProf</td>\n",
       "      <td>B</td>\n",
       "      <td>4</td>\n",
       "      <td>3</td>\n",
       "      <td>Male</td>\n",
       "      <td>79750</td>\n",
       "    </tr>\n",
       "    <tr>\n",
       "      <th>3</th>\n",
       "      <td>Prof</td>\n",
       "      <td>B</td>\n",
       "      <td>45</td>\n",
       "      <td>39</td>\n",
       "      <td>Male</td>\n",
       "      <td>115000</td>\n",
       "    </tr>\n",
       "    <tr>\n",
       "      <th>4</th>\n",
       "      <td>Prof</td>\n",
       "      <td>B</td>\n",
       "      <td>40</td>\n",
       "      <td>41</td>\n",
       "      <td>Male</td>\n",
       "      <td>141500</td>\n",
       "    </tr>\n",
       "  </tbody>\n",
       "</table>\n",
       "</div>"
      ],
      "text/plain": [
       "       rank discipline  yrs.since.phd  yrs.service   sex  salary\n",
       "0      Prof          B             19           18  Male  139750\n",
       "1      Prof          B             20           16  Male  173200\n",
       "2  AsstProf          B              4            3  Male   79750\n",
       "3      Prof          B             45           39  Male  115000\n",
       "4      Prof          B             40           41  Male  141500"
      ]
     },
     "execution_count": 4,
     "metadata": {},
     "output_type": "execute_result"
    }
   ],
   "source": [
    "df.head()"
   ]
  },
  {
   "cell_type": "code",
   "execution_count": 5,
   "id": "d428db2a",
   "metadata": {},
   "outputs": [],
   "source": [
    "df['rank'].replace(['Prof', 'AsstProf '],\n",
    "                        [0, 1], inplace=True)"
   ]
  },
  {
   "cell_type": "markdown",
   "id": "515f8229",
   "metadata": {},
   "source": [
    "# check Null Value is present or Not"
   ]
  },
  {
   "cell_type": "code",
   "execution_count": 6,
   "id": "cf369cde",
   "metadata": {},
   "outputs": [
    {
     "data": {
      "text/html": [
       "<div>\n",
       "<style scoped>\n",
       "    .dataframe tbody tr th:only-of-type {\n",
       "        vertical-align: middle;\n",
       "    }\n",
       "\n",
       "    .dataframe tbody tr th {\n",
       "        vertical-align: top;\n",
       "    }\n",
       "\n",
       "    .dataframe thead th {\n",
       "        text-align: right;\n",
       "    }\n",
       "</style>\n",
       "<table border=\"1\" class=\"dataframe\">\n",
       "  <thead>\n",
       "    <tr style=\"text-align: right;\">\n",
       "      <th></th>\n",
       "      <th>rank</th>\n",
       "      <th>discipline</th>\n",
       "      <th>yrs.since.phd</th>\n",
       "      <th>yrs.service</th>\n",
       "      <th>sex</th>\n",
       "      <th>salary</th>\n",
       "    </tr>\n",
       "  </thead>\n",
       "  <tbody>\n",
       "    <tr>\n",
       "      <th>0</th>\n",
       "      <td>False</td>\n",
       "      <td>False</td>\n",
       "      <td>False</td>\n",
       "      <td>False</td>\n",
       "      <td>False</td>\n",
       "      <td>False</td>\n",
       "    </tr>\n",
       "    <tr>\n",
       "      <th>1</th>\n",
       "      <td>False</td>\n",
       "      <td>False</td>\n",
       "      <td>False</td>\n",
       "      <td>False</td>\n",
       "      <td>False</td>\n",
       "      <td>False</td>\n",
       "    </tr>\n",
       "    <tr>\n",
       "      <th>2</th>\n",
       "      <td>False</td>\n",
       "      <td>False</td>\n",
       "      <td>False</td>\n",
       "      <td>False</td>\n",
       "      <td>False</td>\n",
       "      <td>False</td>\n",
       "    </tr>\n",
       "    <tr>\n",
       "      <th>3</th>\n",
       "      <td>False</td>\n",
       "      <td>False</td>\n",
       "      <td>False</td>\n",
       "      <td>False</td>\n",
       "      <td>False</td>\n",
       "      <td>False</td>\n",
       "    </tr>\n",
       "    <tr>\n",
       "      <th>4</th>\n",
       "      <td>False</td>\n",
       "      <td>False</td>\n",
       "      <td>False</td>\n",
       "      <td>False</td>\n",
       "      <td>False</td>\n",
       "      <td>False</td>\n",
       "    </tr>\n",
       "    <tr>\n",
       "      <th>...</th>\n",
       "      <td>...</td>\n",
       "      <td>...</td>\n",
       "      <td>...</td>\n",
       "      <td>...</td>\n",
       "      <td>...</td>\n",
       "      <td>...</td>\n",
       "    </tr>\n",
       "    <tr>\n",
       "      <th>392</th>\n",
       "      <td>False</td>\n",
       "      <td>False</td>\n",
       "      <td>False</td>\n",
       "      <td>False</td>\n",
       "      <td>False</td>\n",
       "      <td>False</td>\n",
       "    </tr>\n",
       "    <tr>\n",
       "      <th>393</th>\n",
       "      <td>False</td>\n",
       "      <td>False</td>\n",
       "      <td>False</td>\n",
       "      <td>False</td>\n",
       "      <td>False</td>\n",
       "      <td>False</td>\n",
       "    </tr>\n",
       "    <tr>\n",
       "      <th>394</th>\n",
       "      <td>False</td>\n",
       "      <td>False</td>\n",
       "      <td>False</td>\n",
       "      <td>False</td>\n",
       "      <td>False</td>\n",
       "      <td>False</td>\n",
       "    </tr>\n",
       "    <tr>\n",
       "      <th>395</th>\n",
       "      <td>False</td>\n",
       "      <td>False</td>\n",
       "      <td>False</td>\n",
       "      <td>False</td>\n",
       "      <td>False</td>\n",
       "      <td>False</td>\n",
       "    </tr>\n",
       "    <tr>\n",
       "      <th>396</th>\n",
       "      <td>False</td>\n",
       "      <td>False</td>\n",
       "      <td>False</td>\n",
       "      <td>False</td>\n",
       "      <td>False</td>\n",
       "      <td>False</td>\n",
       "    </tr>\n",
       "  </tbody>\n",
       "</table>\n",
       "<p>397 rows × 6 columns</p>\n",
       "</div>"
      ],
      "text/plain": [
       "      rank  discipline  yrs.since.phd  yrs.service    sex  salary\n",
       "0    False       False          False        False  False   False\n",
       "1    False       False          False        False  False   False\n",
       "2    False       False          False        False  False   False\n",
       "3    False       False          False        False  False   False\n",
       "4    False       False          False        False  False   False\n",
       "..     ...         ...            ...          ...    ...     ...\n",
       "392  False       False          False        False  False   False\n",
       "393  False       False          False        False  False   False\n",
       "394  False       False          False        False  False   False\n",
       "395  False       False          False        False  False   False\n",
       "396  False       False          False        False  False   False\n",
       "\n",
       "[397 rows x 6 columns]"
      ]
     },
     "execution_count": 6,
     "metadata": {},
     "output_type": "execute_result"
    }
   ],
   "source": [
    "df.isnull()"
   ]
  },
  {
   "cell_type": "code",
   "execution_count": 7,
   "id": "00d337c5",
   "metadata": {},
   "outputs": [
    {
     "data": {
      "text/plain": [
       "rank             False\n",
       "discipline       False\n",
       "yrs.since.phd    False\n",
       "yrs.service      False\n",
       "sex              False\n",
       "salary           False\n",
       "dtype: bool"
      ]
     },
     "execution_count": 7,
     "metadata": {},
     "output_type": "execute_result"
    }
   ],
   "source": [
    "df.isnull().any()"
   ]
  },
  {
   "cell_type": "code",
   "execution_count": 8,
   "id": "6ee3e3c3",
   "metadata": {},
   "outputs": [
    {
     "data": {
      "text/plain": [
       "rank             0\n",
       "discipline       0\n",
       "yrs.since.phd    0\n",
       "yrs.service      0\n",
       "sex              0\n",
       "salary           0\n",
       "dtype: int64"
      ]
     },
     "execution_count": 8,
     "metadata": {},
     "output_type": "execute_result"
    }
   ],
   "source": [
    "df.isnull().sum()"
   ]
  },
  {
   "cell_type": "code",
   "execution_count": 9,
   "id": "ae99f816",
   "metadata": {},
   "outputs": [
    {
     "name": "stdout",
     "output_type": "stream",
     "text": [
      "<class 'pandas.core.frame.DataFrame'>\n",
      "RangeIndex: 397 entries, 0 to 396\n",
      "Data columns (total 6 columns):\n",
      " #   Column         Non-Null Count  Dtype \n",
      "---  ------         --------------  ----- \n",
      " 0   rank           397 non-null    object\n",
      " 1   discipline     397 non-null    object\n",
      " 2   yrs.since.phd  397 non-null    int64 \n",
      " 3   yrs.service    397 non-null    int64 \n",
      " 4   sex            397 non-null    object\n",
      " 5   salary         397 non-null    int64 \n",
      "dtypes: int64(3), object(3)\n",
      "memory usage: 18.7+ KB\n"
     ]
    }
   ],
   "source": [
    "df.info()"
   ]
  },
  {
   "cell_type": "code",
   "execution_count": 10,
   "id": "4ba313c6",
   "metadata": {},
   "outputs": [
    {
     "data": {
      "text/html": [
       "<div>\n",
       "<style scoped>\n",
       "    .dataframe tbody tr th:only-of-type {\n",
       "        vertical-align: middle;\n",
       "    }\n",
       "\n",
       "    .dataframe tbody tr th {\n",
       "        vertical-align: top;\n",
       "    }\n",
       "\n",
       "    .dataframe thead th {\n",
       "        text-align: right;\n",
       "    }\n",
       "</style>\n",
       "<table border=\"1\" class=\"dataframe\">\n",
       "  <thead>\n",
       "    <tr style=\"text-align: right;\">\n",
       "      <th></th>\n",
       "      <th>yrs.since.phd</th>\n",
       "      <th>yrs.service</th>\n",
       "      <th>salary</th>\n",
       "    </tr>\n",
       "  </thead>\n",
       "  <tbody>\n",
       "    <tr>\n",
       "      <th>count</th>\n",
       "      <td>397.000000</td>\n",
       "      <td>397.000000</td>\n",
       "      <td>397.000000</td>\n",
       "    </tr>\n",
       "    <tr>\n",
       "      <th>mean</th>\n",
       "      <td>22.314861</td>\n",
       "      <td>17.614610</td>\n",
       "      <td>113706.458438</td>\n",
       "    </tr>\n",
       "    <tr>\n",
       "      <th>std</th>\n",
       "      <td>12.887003</td>\n",
       "      <td>13.006024</td>\n",
       "      <td>30289.038695</td>\n",
       "    </tr>\n",
       "    <tr>\n",
       "      <th>min</th>\n",
       "      <td>1.000000</td>\n",
       "      <td>0.000000</td>\n",
       "      <td>57800.000000</td>\n",
       "    </tr>\n",
       "    <tr>\n",
       "      <th>25%</th>\n",
       "      <td>12.000000</td>\n",
       "      <td>7.000000</td>\n",
       "      <td>91000.000000</td>\n",
       "    </tr>\n",
       "    <tr>\n",
       "      <th>50%</th>\n",
       "      <td>21.000000</td>\n",
       "      <td>16.000000</td>\n",
       "      <td>107300.000000</td>\n",
       "    </tr>\n",
       "    <tr>\n",
       "      <th>75%</th>\n",
       "      <td>32.000000</td>\n",
       "      <td>27.000000</td>\n",
       "      <td>134185.000000</td>\n",
       "    </tr>\n",
       "    <tr>\n",
       "      <th>max</th>\n",
       "      <td>56.000000</td>\n",
       "      <td>60.000000</td>\n",
       "      <td>231545.000000</td>\n",
       "    </tr>\n",
       "  </tbody>\n",
       "</table>\n",
       "</div>"
      ],
      "text/plain": [
       "       yrs.since.phd  yrs.service         salary\n",
       "count     397.000000   397.000000     397.000000\n",
       "mean       22.314861    17.614610  113706.458438\n",
       "std        12.887003    13.006024   30289.038695\n",
       "min         1.000000     0.000000   57800.000000\n",
       "25%        12.000000     7.000000   91000.000000\n",
       "50%        21.000000    16.000000  107300.000000\n",
       "75%        32.000000    27.000000  134185.000000\n",
       "max        56.000000    60.000000  231545.000000"
      ]
     },
     "execution_count": 10,
     "metadata": {},
     "output_type": "execute_result"
    }
   ],
   "source": [
    "df.describe()"
   ]
  },
  {
   "cell_type": "markdown",
   "id": "445d5cae",
   "metadata": {},
   "source": [
    "means there is not any null value in our Dataset"
   ]
  },
  {
   "cell_type": "markdown",
   "id": "acc444d5",
   "metadata": {},
   "source": [
    "# Visualize Data"
   ]
  },
  {
   "cell_type": "code",
   "execution_count": 11,
   "id": "86cf7275",
   "metadata": {},
   "outputs": [],
   "source": [
    "import matplotlib.pyplot as plt\n",
    "import numpy as np\n",
    "import seaborn as sns\n",
    "from sklearn.model_selection import train_test_split\n"
   ]
  },
  {
   "cell_type": "code",
   "execution_count": 12,
   "id": "d3754c32",
   "metadata": {},
   "outputs": [
    {
     "data": {
      "image/png": "[encoded data removed]",
      "text/plain": [
       "<Figure size 432x288 with 1 Axes>"
      ]
     },
     "metadata": {
      "needs_background": "light"
     },
     "output_type": "display_data"
    },
    {
     "data": {
      "text/plain": [
       "<AxesSubplot:xlabel='yrs.service', ylabel='salary'>"
      ]
     },
     "execution_count": 12,
     "metadata": {},
     "output_type": "execute_result"
    },
    {
     "data": {
      "image/png": "[encoded data removed]",
      "text/plain": [
       "<Figure size 432x288 with 1 Axes>"
      ]
     },
     "metadata": {
      "needs_background": "light"
     },
     "output_type": "display_data"
    }
   ],
   "source": [
    "plt.plot(df[\"yrs.service\"],df[\"salary\"])\n",
    "plt.xlabel(\"yrs.service\")\n",
    "plt.ylabel(\"salary\")\n",
    "plt.show()\n",
    "\n",
    "sns.barplot(x=\"yrs.service\",y=\"salary\",data=df)"
   ]
  },
  {
   "cell_type": "code",
   "execution_count": 13,
   "id": "ef746279",
   "metadata": {},
   "outputs": [],
   "source": [
    " # replacing values\n",
    "df['rank'].replace(['Prof', 'AsstProf','AssocProf'],\n",
    "                        [0, 1,2],inplace=True)\n"
   ]
  },
  {
   "cell_type": "code",
   "execution_count": 14,
   "id": "c92d62ac",
   "metadata": {},
   "outputs": [],
   "source": [
    "df['discipline'].replace(['B','A'],[0,1],inplace=True)"
   ]
  },
  {
   "cell_type": "code",
   "execution_count": 15,
   "id": "6dca4061",
   "metadata": {},
   "outputs": [],
   "source": [
    "df['sex'].replace(['Male','Female'],[0,1],inplace=True)"
   ]
  },
  {
   "cell_type": "markdown",
   "id": "0e44eb33",
   "metadata": {},
   "source": [
    "Prepare Data"
   ]
  },
  {
   "cell_type": "code",
   "execution_count": 16,
   "id": "075c9cd3",
   "metadata": {},
   "outputs": [],
   "source": [
    "X= df.drop('salary',axis=1)\n",
    "y= df['salary']"
   ]
  },
  {
   "cell_type": "code",
   "execution_count": 17,
   "id": "468139c4",
   "metadata": {},
   "outputs": [
    {
     "data": {
      "text/plain": [
       "((397, 5), (397,))"
      ]
     },
     "execution_count": 17,
     "metadata": {},
     "output_type": "execute_result"
    }
   ],
   "source": [
    "X.shape , y.shape"
   ]
  },
  {
   "cell_type": "markdown",
   "id": "be4b3678",
   "metadata": {},
   "source": [
    "Split Data into train and test"
   ]
  },
  {
   "cell_type": "code",
   "execution_count": 18,
   "id": "523308e9",
   "metadata": {},
   "outputs": [
    {
     "data": {
      "text/plain": [
       "((277, 5), (120, 5), (277,), (120,))"
      ]
     },
     "execution_count": 18,
     "metadata": {},
     "output_type": "execute_result"
    }
   ],
   "source": [
    "#splitting X and y into training and testing sets \n",
    "from sklearn.model_selection import train_test_split \n",
    "X_train, X_test, y_train, y_test = train_test_split(X, y, test_size=0.3, \n",
    "                                                    random_state=1) \n",
    "X_train.shape , X_test.shape ,y_train.shape , y_test.shape"
   ]
  },
  {
   "cell_type": "code",
   "execution_count": 19,
   "id": "22ee4775",
   "metadata": {},
   "outputs": [],
   "source": [
    "from sklearn.linear_model import LinearRegression\n",
    "from sklearn.preprocessing import StandardScaler\n",
    "from sklearn.preprocessing import MinMaxScaler\n",
    "from sklearn.metrics import r2_score , mean_squared_error"
   ]
  },
  {
   "cell_type": "code",
   "execution_count": 20,
   "id": "b84dbcf6",
   "metadata": {},
   "outputs": [
    {
     "data": {
      "text/plain": [
       "LinearRegression()"
      ]
     },
     "execution_count": 20,
     "metadata": {},
     "output_type": "execute_result"
    }
   ],
   "source": [
    "lr = LinearRegression()\n",
    "lr.fit(X_train, y_train)"
   ]
  },
  {
   "cell_type": "markdown",
   "id": "fd548d7a",
   "metadata": {},
   "source": [
    "Test Model"
   ]
  },
  {
   "cell_type": "code",
   "execution_count": 21,
   "id": "a75dd223",
   "metadata": {},
   "outputs": [
    {
     "data": {
      "text/plain": [
       "array([ 95009.68816842,  91860.62444658, 126052.16979568,  83678.24584406,\n",
       "       130386.7407594 , 127415.24311495, 126375.782146  , 100732.28695544,\n",
       "       131412.98074287,  75703.70433154, 115392.23708776,  91832.31877009,\n",
       "       130170.99919252, 125473.56901298, 134884.58543906,  94030.72226865,\n",
       "        86271.92232301, 136888.59720499,  99375.37714884, 109969.0884766 ,\n",
       "       127333.39821151, 119919.33607857, 125797.18136331, 122273.10881616,\n",
       "       102320.97165461, 125774.09056482, 133887.72250806, 120629.02118451,\n",
       "       140954.95875088, 125581.43979642, 119403.19570116, 134953.20935702,\n",
       "       100153.68617275, 109321.86377594,  89585.46818127, 124008.91116426,\n",
       "       136581.14092167, 101055.89930577, 129945.38781262,  69002.13964474,\n",
       "        89125.67937102, 116441.56786971, 118608.85335158, 128922.08291068,\n",
       "       120884.00961688,  90379.81053086, 110802.67769166, 136473.27013822,\n",
       "       125852.58429579, 141062.82953432, 126189.41763159, 125142.89918985,\n",
       "       132207.32309245,  89341.4209379 , 131504.69545931, 125381.85429654,\n",
       "       138061.95483739,  88439.20780488, 128157.11761357, 129484.52762638,\n",
       "       118716.72413502, 118461.73570265, 130795.13309469, 119366.76117588,\n",
       "       129288.29329896, 115137.24865539,  88683.25504825, 129121.66841057,\n",
       "       136326.1524893 , 139689.88640204,  85143.0264341 , 144740.30598438,\n",
       "       103223.18478764, 111636.26690673,  97941.9389474 , 100624.416172  ,\n",
       "       139003.4148359 , 138454.19110567, 123793.16959737, 116294.45022079,\n",
       "       133564.11015773,  99467.21460661,  86623.84034983, 100045.8153893 ,\n",
       "       143259.49206866, 140376.35796818, 125689.31057986,  89178.14722197,\n",
       "       120916.19900956, 104125.39792066, 124737.98076834,  79235.80409689,\n",
       "       129422.18996241,  99367.34993063, 100624.416172  ,  74909.36198196,\n",
       "       128519.97682938, 140405.73502065, 128922.08291068, 110116.20612552,\n",
       "       126754.79742882, 101526.62930503,  88547.07858832, 114411.53022377,\n",
       "       137738.34248706, 121560.61137001, 109429.73455938, 115970.83787046,\n",
       "       109213.9929925 ,  90782.98798814, 135924.046408  , 130187.15525952,\n",
       "        90691.15053038,  99937.94460586,  81295.21879531,  73644.28963312,\n",
       "        88331.33702143, 126646.92664537, 130700.48329672, 114019.29395548])"
      ]
     },
     "execution_count": 21,
     "metadata": {},
     "output_type": "execute_result"
    }
   ],
   "source": [
    "pred = lr.predict(X_test)\n",
    "pred"
   ]
  },
  {
   "cell_type": "code",
   "execution_count": 22,
   "id": "c5e50618",
   "metadata": {},
   "outputs": [
    {
     "data": {
      "text/plain": [
       "174    105000\n",
       "359     78785\n",
       "250    109000\n",
       "274     78500\n",
       "283    155865\n",
       "        ...  \n",
       "382     86895\n",
       "39     100938\n",
       "171    151575\n",
       "271    194800\n",
       "247    101100\n",
       "Name: salary, Length: 120, dtype: int64"
      ]
     },
     "execution_count": 22,
     "metadata": {},
     "output_type": "execute_result"
    }
   ],
   "source": [
    "y_test"
   ]
  },
  {
   "cell_type": "markdown",
   "id": "343df9cd",
   "metadata": {},
   "source": [
    "Evaluate"
   ]
  },
  {
   "cell_type": "code",
   "execution_count": 23,
   "id": "81610567",
   "metadata": {},
   "outputs": [
    {
     "data": {
      "text/plain": [
       "0.3175095677056937"
      ]
     },
     "execution_count": 23,
     "metadata": {},
     "output_type": "execute_result"
    }
   ],
   "source": [
    "lr.score(X_test , y_test)"
   ]
  },
  {
   "cell_type": "code",
   "execution_count": 24,
   "id": "6b69b785",
   "metadata": {},
   "outputs": [],
   "source": [
    "rmse =np.sqrt(mean_squared_error(y_test,pred))\n",
    "r2 = r2_score(y_test,pred)"
   ]
  },
  {
   "cell_type": "code",
   "execution_count": 25,
   "id": "8e78d7a5",
   "metadata": {},
   "outputs": [
    {
     "data": {
      "text/plain": [
       "(25043.21508207943, 0.337591917812746)"
      ]
     },
     "execution_count": 25,
     "metadata": {},
     "output_type": "execute_result"
    }
   ],
   "source": [
    "rmse , r2"
   ]
  },
  {
   "cell_type": "code",
   "execution_count": null,
   "id": "1e2a4319",
   "metadata": {},
   "outputs": [],
   "source": []
  }
 ],
 "metadata": {
  "kernelspec": {
   "display_name": "Python 3 (ipykernel)",
   "language": "python",
   "name": "python3"
  },
  "language_info": {
   "codemirror_mode": {
    "name": "ipython",
    "version": 3
   },
   "file_extension": ".py",
   "mimetype": "text/x-python",
   "name": "python",
   "nbconvert_exporter": "python",
   "pygments_lexer": "ipython3",
   "version": "3.9.7"
  }
 },
 "nbformat": 4,
 "nbformat_minor": 5
}
